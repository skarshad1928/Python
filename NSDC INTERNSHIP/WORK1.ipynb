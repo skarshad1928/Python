{
 "cells": [
  {
   "cell_type": "code",
   "execution_count": 1,
   "id": "e9cecf10",
   "metadata": {},
   "outputs": [],
   "source": [
    "import pandas as pd\n",
    "data_frame =pd.read_excel(\"Telco_customer_churn.xlsx\")\n",
    "df_nonchunked_customers=data_frame[data_frame['Churn Label']=='No']\n",
    "df_chunked_customers =data_frame[data_frame['Churn Label']=='Yes']\n",
    "df_chunked_customers.to_excel(\"df_chunked_customers.xlsx\")\n",
    "df_nonchunked_customers.to_excel(\"df_nonchunked_customers.xlsx\")"
   ]
  },
  {
   "cell_type": "code",
   "execution_count": 2,
   "id": "9e7af9f2",
   "metadata": {},
   "outputs": [
    {
     "name": "stdout",
     "output_type": "stream",
     "text": [
      "<class 'pandas.core.frame.DataFrame'>\n",
      "RangeIndex: 7043 entries, 0 to 7042\n",
      "Data columns (total 33 columns):\n",
      " #   Column             Non-Null Count  Dtype  \n",
      "---  ------             --------------  -----  \n",
      " 0   CustomerID         7043 non-null   object \n",
      " 1   Count              7043 non-null   int64  \n",
      " 2   Country            7043 non-null   object \n",
      " 3   State              7043 non-null   object \n",
      " 4   City               7043 non-null   object \n",
      " 5   Zip Code           7043 non-null   int64  \n",
      " 6   Lat Long           7043 non-null   object \n",
      " 7   Latitude           7043 non-null   float64\n",
      " 8   Longitude          7043 non-null   float64\n",
      " 9   Gender             7043 non-null   object \n",
      " 10  Senior Citizen     7043 non-null   object \n",
      " 11  Partner            7043 non-null   object \n",
      " 12  Dependents         7043 non-null   object \n",
      " 13  Tenure Months      7043 non-null   int64  \n",
      " 14  Phone Service      7043 non-null   object \n",
      " 15  Multiple Lines     7043 non-null   object \n",
      " 16  Internet Service   7043 non-null   object \n",
      " 17  Online Security    7043 non-null   object \n",
      " 18  Online Backup      7043 non-null   object \n",
      " 19  Device Protection  7043 non-null   object \n",
      " 20  Tech Support       7043 non-null   object \n",
      " 21  Streaming TV       7043 non-null   object \n",
      " 22  Streaming Movies   7043 non-null   object \n",
      " 23  Contract           7043 non-null   object \n",
      " 24  Paperless Billing  7043 non-null   object \n",
      " 25  Payment Method     7043 non-null   object \n",
      " 26  Monthly Charges    7043 non-null   float64\n",
      " 27  Total Charges      7043 non-null   object \n",
      " 28  Churn Label        7043 non-null   object \n",
      " 29  Churn Value        7043 non-null   int64  \n",
      " 30  Churn Score        7043 non-null   int64  \n",
      " 31  CLTV               7043 non-null   int64  \n",
      " 32  Churn Reason       1869 non-null   object \n",
      "dtypes: float64(3), int64(6), object(24)\n",
      "memory usage: 1.8+ MB\n"
     ]
    },
    {
     "data": {
      "text/plain": [
       "Index(['CustomerID', 'Count', 'Country', 'State', 'City', 'Zip Code',\n",
       "       'Lat Long', 'Latitude', 'Longitude', 'Gender', 'Senior Citizen',\n",
       "       'Partner', 'Dependents', 'Tenure Months', 'Phone Service',\n",
       "       'Multiple Lines', 'Internet Service', 'Online Security',\n",
       "       'Online Backup', 'Device Protection', 'Tech Support', 'Streaming TV',\n",
       "       'Streaming Movies', 'Contract', 'Paperless Billing', 'Payment Method',\n",
       "       'Monthly Charges', 'Total Charges', 'Churn Label', 'Churn Value',\n",
       "       'Churn Score', 'CLTV', 'Churn Reason'],\n",
       "      dtype='object')"
      ]
     },
     "execution_count": 2,
     "metadata": {},
     "output_type": "execute_result"
    }
   ],
   "source": [
    "data_frame.info()\n",
    "data_frame.columns"
   ]
  },
  {
   "cell_type": "code",
   "execution_count": 3,
   "id": "af0bb701",
   "metadata": {},
   "outputs": [
    {
     "name": "stderr",
     "output_type": "stream",
     "text": [
      "C:\\Users\\Shaik Arshad\\AppData\\Local\\Temp\\ipykernel_15864\\170221624.py:19: SettingWithCopyWarning: \n",
      "A value is trying to be set on a copy of a slice from a DataFrame.\n",
      "Try using .loc[row_indexer,col_indexer] = value instead\n",
      "\n",
      "See the caveats in the documentation: https://pandas.pydata.org/pandas-docs/stable/user_guide/indexing.html#returning-a-view-versus-a-copy\n",
      "  df_chunked_customers[\"Total Charges\"] = df_chunked_customers[\"Total Charges\"].astype(float)\n"
     ]
    }
   ],
   "source": [
    "import logging\n",
    "\n",
    "# Configure logging\n",
    "logging.basicConfig(\n",
    "    filename=\"Work1.log\",    # Log file name\n",
    "    filemode=\"w\",            # Overwrite the file each time\n",
    "    level=logging.INFO,      # Set minimum level to INFO\n",
    "    format=\"%(asctime)s - %(levelname)s - %(message)s\"  # Log message format\n",
    ")\n",
    "data_frame.drop(\"Lat Long\",axis=1)\n",
    "logging.info(\"Dropped Lat Long column Successfully\")\n",
    "numeric_columns = df_chunked_customers.select_dtypes(include=[\"int64\",\"float64\"]).columns.tolist()\n",
    "numeric_columns.remove(\"Latitude\")\n",
    "numeric_columns.remove(\"Longitude\")\n",
    "numeric_columns.remove(\"Zip Code\")\n",
    "numeric_columns.remove(\"Count\")\n",
    "logging.info(\"Removed columns are unnecessary  column They might be fall in categorical or  numeric But statistic Operation Unrelated\")\n",
    "numeric_columns.append(\"Total Charges\")\n",
    "df_chunked_customers[\"Total Charges\"] = df_chunked_customers[\"Total Charges\"].astype(float)\n",
    "logging.info(\"Converted  Data Type of total charges to float64\")"
   ]
  },
  {
   "cell_type": "code",
   "execution_count": 4,
   "id": "de4de5b6",
   "metadata": {},
   "outputs": [],
   "source": [
    "#Removing Outliers\n",
    "import pandas as pd\n",
    "import numpy as np\n",
    "from scipy import stats\n",
    "\n",
    "def handle_outliers(df, column, method='capping', lower_percentile=0.05, upper_percentile=0.95):\n",
    "    \"\"\"\n",
    "    Handles outliers in a DataFrame column.\n",
    "    \n",
    "    Parameters:\n",
    "    - df (pd.DataFrame): The DataFrame containing the column.\n",
    "    - column (str): Column name to handle outliers.\n",
    "    - method (str): 'capping', 'median', 'log', or 'boxcox'.\n",
    "    - lower_percentile (float): Lower percentile for capping (default 0.05).\n",
    "    - upper_percentile (float): Upper percentile for capping (default 0.95).\n",
    "    \n",
    "    Returns:\n",
    "    - pd.DataFrame: DataFrame with outliers handled.\n",
    "    \"\"\"\n",
    "    df_copy = df.copy()\n",
    "    \n",
    "    if method == 'capping':\n",
    "        lower_bound = df_copy[column].quantile(lower_percentile)\n",
    "        upper_bound = df_copy[column].quantile(upper_percentile)\n",
    "        df_copy[column] = np.where(df_copy[column] > upper_bound, upper_bound, df_copy[column])\n",
    "        df_copy[column] = np.where(df_copy[column] < lower_bound, lower_bound, df_copy[column])\n",
    "    \n",
    "    elif method == 'median':\n",
    "        median = df_copy[column].median()\n",
    "        Q1 = df_copy[column].quantile(0.25)\n",
    "        Q3 = df_copy[column].quantile(0.75)\n",
    "        IQR = Q3 - Q1\n",
    "        lower_bound = Q1 - 1.5 * IQR\n",
    "        upper_bound = Q3 + 1.5 * IQR\n",
    "        df_copy[column] = np.where(df_copy[column] > upper_bound, median, df_copy[column])\n",
    "        df_copy[column] = np.where(df_copy[column] < lower_bound, median, df_copy[column])\n",
    "    \n",
    "    elif method == 'log':\n",
    "        # Add 1 to avoid log(0)\n",
    "        df_copy[column] = np.log1p(df_copy[column])\n",
    "    \n",
    "    elif method == 'boxcox':\n",
    "        # Box-Cox requires all positive values\n",
    "        if (df_copy[column] <= 0).any():\n",
    "            df_copy[column] = df_copy[column] - df_copy[column].min() + 1\n",
    "        df_copy[column], _ = stats.boxcox(df_copy[column])\n",
    "    \n",
    "    else:\n",
    "        raise ValueError(\"Method must be 'capping', 'median', 'log', or 'boxcox'.\")\n",
    "    \n",
    "    return df_copy\n"
   ]
  },
  {
   "cell_type": "code",
   "execution_count": 5,
   "id": "2b13eed4",
   "metadata": {},
   "outputs": [
    {
     "name": "stdout",
     "output_type": "stream",
     "text": [
      "      CustomerID  Count        Country       State          City  Zip Code  \\\n",
      "0     3668-QPYBK      1  United States  California   Los Angeles     90003   \n",
      "1     9237-HQITU      1  United States  California   Los Angeles     90005   \n",
      "2     9305-CDSKC      1  United States  California   Los Angeles     90006   \n",
      "3     7892-POOKP      1  United States  California   Los Angeles     90010   \n",
      "4     0280-XJGEX      1  United States  California   Los Angeles     90015   \n",
      "...          ...    ...            ...         ...           ...       ...   \n",
      "1864  1699-HPSBG      1  United States  California  Palm Springs     92264   \n",
      "1865  8775-CEBBJ      1  United States  California        Seeley     92273   \n",
      "1866  6894-LFHLY      1  United States  California         Vidal     92280   \n",
      "1867  0639-TSIQW      1  United States  California   White Water     92282   \n",
      "1868  8361-LTMKD      1  United States  California  Apple Valley     92307   \n",
      "\n",
      "                    Lat Long   Latitude   Longitude  Gender  ...  \\\n",
      "0     33.964131, -118.272783  33.964131 -118.272783    Male  ...   \n",
      "1      34.059281, -118.30742  34.059281 -118.307420  Female  ...   \n",
      "2     34.048013, -118.293953  34.048013 -118.293953  Female  ...   \n",
      "3     34.062125, -118.315709  34.062125 -118.315709  Female  ...   \n",
      "4     34.039224, -118.266293  34.039224 -118.266293    Male  ...   \n",
      "...                      ...        ...         ...     ...  ...   \n",
      "1864  33.745746, -116.514215  33.745746 -116.514215    Male  ...   \n",
      "1865  32.790282, -115.689559  32.790282 -115.689559  Female  ...   \n",
      "1866  34.264124, -114.717964  34.264124 -114.717964    Male  ...   \n",
      "1867  33.972293, -116.654195  33.972293 -116.654195  Female  ...   \n",
      "1868   34.55082, -117.122396  34.550820 -117.122396    Male  ...   \n",
      "\n",
      "            Contract Paperless Billing             Payment Method  \\\n",
      "0     Month-to-month               Yes               Mailed check   \n",
      "1     Month-to-month               Yes           Electronic check   \n",
      "2     Month-to-month               Yes           Electronic check   \n",
      "3     Month-to-month               Yes           Electronic check   \n",
      "4     Month-to-month               Yes  Bank transfer (automatic)   \n",
      "...              ...               ...                        ...   \n",
      "1864        One year               Yes           Electronic check   \n",
      "1865  Month-to-month               Yes  Bank transfer (automatic)   \n",
      "1866  Month-to-month               Yes           Electronic check   \n",
      "1867  Month-to-month               Yes    Credit card (automatic)   \n",
      "1868  Month-to-month               Yes               Mailed check   \n",
      "\n",
      "      Monthly Charges Total Charges Churn Label Churn Value Churn Score  \\\n",
      "0               53.85        108.15         Yes         1.0        86.0   \n",
      "1               70.70        151.65         Yes         1.0        67.0   \n",
      "2               99.65        820.50         Yes         1.0        86.0   \n",
      "3              104.80       3046.05         Yes         1.0        84.0   \n",
      "4              103.70       5036.30         Yes         1.0        89.0   \n",
      "...               ...           ...         ...         ...         ...   \n",
      "1864            59.80        727.80         Yes         1.0        69.0   \n",
      "1865            44.20        403.35         Yes         1.0        87.0   \n",
      "1866            75.75         75.75         Yes         1.0        97.0   \n",
      "1867           102.95       5890.05         Yes         1.0        70.0   \n",
      "1868            74.40        306.60         Yes         1.0        77.0   \n",
      "\n",
      "        CLTV                               Churn Reason  \n",
      "0     3239.0               Competitor made better offer  \n",
      "1     2701.0                                      Moved  \n",
      "2     5372.0                                      Moved  \n",
      "3     5003.0                                      Moved  \n",
      "4     5340.0              Competitor had better devices  \n",
      "...      ...                                        ...  \n",
      "1864  4581.0  Competitor offered higher download speeds  \n",
      "1865  2200.2  Competitor offered higher download speeds  \n",
      "1866  5571.0  Competitor offered higher download speeds  \n",
      "1867  5620.0               Competitor offered more data  \n",
      "1868  5839.0               Competitor offered more data  \n",
      "\n",
      "[1869 rows x 33 columns]\n"
     ]
    }
   ],
   "source": [
    "df_copy = handle_outliers(df_chunked_customers, numeric_columns, method='capping', lower_percentile=0.05, upper_percentile=0.95)\n",
    "print(df_copy)"
   ]
  },
  {
   "cell_type": "code",
   "execution_count": 6,
   "id": "33031dfa",
   "metadata": {},
   "outputs": [],
   "source": [
    "categorical_columns=df_chunked_customers.select_dtypes(include=\"object\").columns.to_list()"
   ]
  },
  {
   "cell_type": "code",
   "execution_count": 7,
   "id": "feb3cbb4",
   "metadata": {},
   "outputs": [],
   "source": [
    "categorical_columns.remove('CustomerID')\n",
    "categorical_columns.remove('Lat Long')"
   ]
  },
  {
   "cell_type": "code",
   "execution_count": 8,
   "id": "0b36458d",
   "metadata": {},
   "outputs": [
    {
     "data": {
      "text/plain": [
       "['Country',\n",
       " 'State',\n",
       " 'City',\n",
       " 'Gender',\n",
       " 'Senior Citizen',\n",
       " 'Partner',\n",
       " 'Dependents',\n",
       " 'Phone Service',\n",
       " 'Multiple Lines',\n",
       " 'Internet Service',\n",
       " 'Online Security',\n",
       " 'Online Backup',\n",
       " 'Device Protection',\n",
       " 'Tech Support',\n",
       " 'Streaming TV',\n",
       " 'Streaming Movies',\n",
       " 'Contract',\n",
       " 'Paperless Billing',\n",
       " 'Payment Method',\n",
       " 'Churn Label',\n",
       " 'Churn Reason']"
      ]
     },
     "execution_count": 8,
     "metadata": {},
     "output_type": "execute_result"
    }
   ],
   "source": [
    "categorical_columns"
   ]
  },
  {
   "cell_type": "code",
   "execution_count": 9,
   "id": "4556a16e",
   "metadata": {},
   "outputs": [
    {
     "name": "stdout",
     "output_type": "stream",
     "text": [
      "           Country       State             City  LID\n",
      "0    United States  California      Los Angeles    1\n",
      "1    United States  California    Beverly Hills    2\n",
      "2    United States  California  Huntington Park    3\n",
      "3    United States  California          Lynwood    4\n",
      "4    United States  California   Marina Del Rey    5\n",
      "..             ...         ...              ...  ...\n",
      "828  United States  California            Poway  829\n",
      "829  United States  California         Beaumont  830\n",
      "830  United States  California          Cabazon  831\n",
      "831  United States  California       Calipatria  832\n",
      "832  United States  California        El Centro  833\n",
      "\n",
      "[833 rows x 4 columns]\n"
     ]
    }
   ],
   "source": [
    "df_Location = df_copy[[\"Country\", \"State\", \"City\"]].drop_duplicates().reset_index(drop=True)\n",
    "\n",
    "# Add LID column starting from 1\n",
    "df_Location[\"LID\"] = range(1, len(df_Location) + 1)\n",
    "\n",
    "print(df_Location)\n",
    "\n"
   ]
  },
  {
   "cell_type": "code",
   "execution_count": 10,
   "id": "b49a7edd",
   "metadata": {},
   "outputs": [],
   "source": [
    "df_copy = df_copy.merge(df_Location, on=[\"Country\", \"State\", \"City\"], how=\"left\")\n",
    "df_copy = df_copy.drop(columns=[\"Country\", \"State\", \"City\"])\n"
   ]
  },
  {
   "cell_type": "code",
   "execution_count": 11,
   "id": "3c1260bd",
   "metadata": {},
   "outputs": [
    {
     "name": "stdout",
     "output_type": "stream",
     "text": [
      "<class 'pandas.core.frame.DataFrame'>\n",
      "RangeIndex: 1869 entries, 0 to 1868\n",
      "Data columns (total 31 columns):\n",
      " #   Column             Non-Null Count  Dtype  \n",
      "---  ------             --------------  -----  \n",
      " 0   CustomerID         1869 non-null   object \n",
      " 1   Count              1869 non-null   int64  \n",
      " 2   Zip Code           1869 non-null   int64  \n",
      " 3   Lat Long           1869 non-null   object \n",
      " 4   Latitude           1869 non-null   float64\n",
      " 5   Longitude          1869 non-null   float64\n",
      " 6   Gender             1869 non-null   object \n",
      " 7   Senior Citizen     1869 non-null   object \n",
      " 8   Partner            1869 non-null   object \n",
      " 9   Dependents         1869 non-null   object \n",
      " 10  Tenure Months      1869 non-null   float64\n",
      " 11  Phone Service      1869 non-null   object \n",
      " 12  Multiple Lines     1869 non-null   object \n",
      " 13  Internet Service   1869 non-null   object \n",
      " 14  Online Security    1869 non-null   object \n",
      " 15  Online Backup      1869 non-null   object \n",
      " 16  Device Protection  1869 non-null   object \n",
      " 17  Tech Support       1869 non-null   object \n",
      " 18  Streaming TV       1869 non-null   object \n",
      " 19  Streaming Movies   1869 non-null   object \n",
      " 20  Contract           1869 non-null   object \n",
      " 21  Paperless Billing  1869 non-null   object \n",
      " 22  Payment Method     1869 non-null   object \n",
      " 23  Monthly Charges    1869 non-null   float64\n",
      " 24  Total Charges      1869 non-null   float64\n",
      " 25  Churn Label        1869 non-null   object \n",
      " 26  Churn Value        1869 non-null   float64\n",
      " 27  Churn Score        1869 non-null   float64\n",
      " 28  CLTV               1869 non-null   float64\n",
      " 29  Churn Reason       1869 non-null   object \n",
      " 30  LID                1869 non-null   int64  \n",
      "dtypes: float64(8), int64(3), object(20)\n",
      "memory usage: 452.8+ KB\n"
     ]
    }
   ],
   "source": [
    "df_copy.info()"
   ]
  },
  {
   "cell_type": "code",
   "execution_count": 12,
   "id": "eaa30275",
   "metadata": {},
   "outputs": [],
   "source": [
    "#categorical_columns.remove('Country')\n",
    "categorical_columns.remove('City')\n",
    "categorical_columns.remove('State')"
   ]
  },
  {
   "cell_type": "code",
   "execution_count": 13,
   "id": "1c825b3e",
   "metadata": {},
   "outputs": [],
   "source": [
    "categorical_columns.remove('Country')"
   ]
  },
  {
   "cell_type": "code",
   "execution_count": 14,
   "id": "b2383c04",
   "metadata": {},
   "outputs": [
    {
     "data": {
      "text/plain": [
       "['Gender',\n",
       " 'Senior Citizen',\n",
       " 'Partner',\n",
       " 'Dependents',\n",
       " 'Phone Service',\n",
       " 'Multiple Lines',\n",
       " 'Internet Service',\n",
       " 'Online Security',\n",
       " 'Online Backup',\n",
       " 'Device Protection',\n",
       " 'Tech Support',\n",
       " 'Streaming TV',\n",
       " 'Streaming Movies',\n",
       " 'Contract',\n",
       " 'Paperless Billing',\n",
       " 'Payment Method',\n",
       " 'Churn Label',\n",
       " 'Churn Reason']"
      ]
     },
     "execution_count": 14,
     "metadata": {},
     "output_type": "execute_result"
    }
   ],
   "source": [
    "categorical_columns"
   ]
  },
  {
   "cell_type": "code",
   "execution_count": 15,
   "id": "3592cae4",
   "metadata": {},
   "outputs": [
    {
     "name": "stdout",
     "output_type": "stream",
     "text": [
      "['Male' 'Female']\n",
      "   CustomerID  Count  Zip Code                Lat Long   Latitude   Longitude  \\\n",
      "0  3668-QPYBK      1     90003  33.964131, -118.272783  33.964131 -118.272783   \n",
      "1  9237-HQITU      1     90005   34.059281, -118.30742  34.059281 -118.307420   \n",
      "2  9305-CDSKC      1     90006  34.048013, -118.293953  34.048013 -118.293953   \n",
      "3  7892-POOKP      1     90010  34.062125, -118.315709  34.062125 -118.315709   \n",
      "4  0280-XJGEX      1     90015  34.039224, -118.266293  34.039224 -118.266293   \n",
      "\n",
      "   Gender Senior Citizen Partner Dependents  ...  Paperless Billing  \\\n",
      "0       1             No      No         No  ...                Yes   \n",
      "1       0             No      No        Yes  ...                Yes   \n",
      "2       0             No      No        Yes  ...                Yes   \n",
      "3       0             No     Yes        Yes  ...                Yes   \n",
      "4       1             No      No        Yes  ...                Yes   \n",
      "\n",
      "              Payment Method Monthly Charges Total Charges Churn Label  \\\n",
      "0               Mailed check           53.85        108.15         Yes   \n",
      "1           Electronic check           70.70        151.65         Yes   \n",
      "2           Electronic check           99.65        820.50         Yes   \n",
      "3           Electronic check          104.80       3046.05         Yes   \n",
      "4  Bank transfer (automatic)          103.70       5036.30         Yes   \n",
      "\n",
      "  Churn Value Churn Score    CLTV                   Churn Reason LID  \n",
      "0         1.0        86.0  3239.0   Competitor made better offer   1  \n",
      "1         1.0        67.0  2701.0                          Moved   1  \n",
      "2         1.0        86.0  5372.0                          Moved   1  \n",
      "3         1.0        84.0  5003.0                          Moved   1  \n",
      "4         1.0        89.0  5340.0  Competitor had better devices   1  \n",
      "\n",
      "[5 rows x 31 columns]\n"
     ]
    }
   ],
   "source": [
    "# unique values check karne ke liye\n",
    "print(df_chunked_customers['Gender'].unique())\n",
    "\n",
    "# mapping define\n",
    "gender_map = {\"Male\": 1, \"Female\": 0}\n",
    "\n",
    "# df_copy me Gender ko map karo\n",
    "df_copy[\"Gender\"] = df_copy[\"Gender\"].map(gender_map)\n",
    "\n",
    "print(df_copy.head())\n"
   ]
  },
  {
   "cell_type": "code",
   "execution_count": 16,
   "id": "5172f588",
   "metadata": {},
   "outputs": [],
   "source": [
    "df_copy[\"Senior Citizen\"].unique()\n",
    "citizen_map={\"Yes\":1,\"No\":0}\n",
    "df_copy[\"Senior Citizen\"]=df_copy[\"Senior Citizen\"].map(citizen_map)\n"
   ]
  },
  {
   "cell_type": "code",
   "execution_count": 17,
   "id": "5511136e",
   "metadata": {},
   "outputs": [],
   "source": [
    "df_copy[\"Partner\"].unique()\n",
    "citizen_Partnership={\"Yes\":1,\"No\":0}\n",
    "df_copy[\"Partner\"]=df_copy[\"Partner\"].map(citizen_map)"
   ]
  },
  {
   "cell_type": "code",
   "execution_count": 18,
   "id": "19ad5b16",
   "metadata": {},
   "outputs": [],
   "source": [
    "df_copy[\"Dependents\"].unique()\n",
    "isdependent={\"Yes\":1,\"No\":0}\n",
    "df_copy[\"Dependents\"]=df_copy[\"Dependents\"].map(isdependent)"
   ]
  },
  {
   "cell_type": "code",
   "execution_count": 19,
   "id": "42013be7",
   "metadata": {},
   "outputs": [
    {
     "data": {
      "text/plain": [
       "['Gender',\n",
       " 'Senior Citizen',\n",
       " 'Partner',\n",
       " 'Dependents',\n",
       " 'Phone Service',\n",
       " 'Multiple Lines',\n",
       " 'Internet Service',\n",
       " 'Online Security',\n",
       " 'Online Backup',\n",
       " 'Device Protection',\n",
       " 'Tech Support',\n",
       " 'Streaming TV',\n",
       " 'Streaming Movies',\n",
       " 'Contract',\n",
       " 'Paperless Billing',\n",
       " 'Payment Method',\n",
       " 'Churn Label',\n",
       " 'Churn Reason']"
      ]
     },
     "execution_count": 19,
     "metadata": {},
     "output_type": "execute_result"
    }
   ],
   "source": [
    "categorical_columns"
   ]
  },
  {
   "cell_type": "code",
   "execution_count": 20,
   "id": "d0d713c1",
   "metadata": {},
   "outputs": [],
   "source": [
    "df_copy[\"Phone Service\"].unique()\n",
    "isphoneservice={\"Yes\":1,\"No\":0}\n",
    "df_copy[\"Phone Service\"]=df_copy[\"Phone Service\"].map(isphoneservice)"
   ]
  },
  {
   "cell_type": "code",
   "execution_count": 21,
   "id": "656bd2f5",
   "metadata": {},
   "outputs": [],
   "source": [
    "df_copy[\"Multiple Lines\"].unique()\n",
    "is_ML={\"Yes\":2,\"No\":1,\"No phone service\":0}\n",
    "df_copy[\"Multiple Lines\"]=df_copy[\"Multiple Lines\"].map(is_ML)"
   ]
  },
  {
   "cell_type": "code",
   "execution_count": 22,
   "id": "f0d85385",
   "metadata": {},
   "outputs": [],
   "source": [
    "df_copy[\"Internet Service\"].unique()\n",
    "isit={'DSL':2,'Fiber optic':1,'No':0}\n",
    "df_copy[\"Internet Service\"]=df_copy[\"Internet Service\"].map(isit)"
   ]
  },
  {
   "cell_type": "code",
   "execution_count": 23,
   "id": "668cf500",
   "metadata": {},
   "outputs": [],
   "source": [
    "df_copy[\"Online Security\"].unique()\n",
    "is_Os ={'Yes':2,'No':1,'No internet service':0}\n",
    "df_copy[\"Online Security\"]=df_copy[\"Online Security\"].map(is_Os)"
   ]
  },
  {
   "cell_type": "code",
   "execution_count": 24,
   "id": "2386a369",
   "metadata": {},
   "outputs": [
    {
     "data": {
      "text/plain": [
       "['Gender',\n",
       " 'Senior Citizen',\n",
       " 'Partner',\n",
       " 'Dependents',\n",
       " 'Phone Service',\n",
       " 'Multiple Lines',\n",
       " 'Internet Service',\n",
       " 'Online Security',\n",
       " 'Online Backup',\n",
       " 'Device Protection',\n",
       " 'Tech Support',\n",
       " 'Streaming TV',\n",
       " 'Streaming Movies',\n",
       " 'Contract',\n",
       " 'Paperless Billing',\n",
       " 'Payment Method',\n",
       " 'Churn Label',\n",
       " 'Churn Reason']"
      ]
     },
     "execution_count": 24,
     "metadata": {},
     "output_type": "execute_result"
    }
   ],
   "source": [
    "categorical_columns"
   ]
  },
  {
   "cell_type": "code",
   "execution_count": 25,
   "id": "2870dc81",
   "metadata": {},
   "outputs": [],
   "source": [
    "df_copy[\"Online Backup\"].unique()\n",
    "is_Ob ={'Yes':2,'No':1,'No internet service':0}\n",
    "df_copy[\"Online Backup\"]=df_copy[\"Online Backup\"].map(is_Ob)"
   ]
  },
  {
   "cell_type": "code",
   "execution_count": 26,
   "id": "c2591da1",
   "metadata": {},
   "outputs": [],
   "source": [
    "df_copy[\"Device Protection\"].unique()\n",
    "is_Ob ={'Yes':2,'No':1,'No internet service':0}\n",
    "df_copy[\"Device Protection\"]=df_copy[\"Device Protection\"].map(is_Ob)"
   ]
  },
  {
   "cell_type": "code",
   "execution_count": 27,
   "id": "6a173dfd",
   "metadata": {},
   "outputs": [],
   "source": [
    "df_copy ['Tech Support'].unique()\n",
    "is_Ob ={'Yes':2,'No':1,'No internet service':0}\n",
    "df_copy['Tech Support']=df_copy['Tech Support'].map(is_Ob)"
   ]
  },
  {
   "cell_type": "code",
   "execution_count": 28,
   "id": "239f601c",
   "metadata": {},
   "outputs": [],
   "source": [
    "df_copy['Streaming TV'].unique()\n",
    "is_Ob ={'Yes':2,'No':1,'No internet service':0}\n",
    "df_copy['Streaming TV']=df_copy['Streaming TV'].map(is_Ob)"
   ]
  },
  {
   "cell_type": "code",
   "execution_count": 29,
   "id": "5f9494fd",
   "metadata": {},
   "outputs": [],
   "source": [
    "df_copy['Streaming Movies'].unique()\n",
    "is_Ob ={'Yes':2,'No':1,'No internet service':0}\n",
    "df_copy['Streaming Movies']=df_copy['Streaming Movies'].map(is_Ob)"
   ]
  },
  {
   "cell_type": "code",
   "execution_count": 30,
   "id": "0f015ac1",
   "metadata": {},
   "outputs": [],
   "source": [
    "df_copy['Contract'].unique()\n",
    "is_sub={'Month-to-month':1,'One year':2,'Two year':3}\n",
    "df_copy['Contract']=df_copy['Contract'].map(is_sub)"
   ]
  },
  {
   "cell_type": "code",
   "execution_count": 31,
   "id": "e0480043",
   "metadata": {},
   "outputs": [
    {
     "data": {
      "text/plain": [
       "['Gender',\n",
       " 'Senior Citizen',\n",
       " 'Partner',\n",
       " 'Dependents',\n",
       " 'Phone Service',\n",
       " 'Multiple Lines',\n",
       " 'Internet Service',\n",
       " 'Online Security',\n",
       " 'Online Backup',\n",
       " 'Device Protection',\n",
       " 'Tech Support',\n",
       " 'Streaming TV',\n",
       " 'Streaming Movies',\n",
       " 'Contract',\n",
       " 'Paperless Billing',\n",
       " 'Payment Method',\n",
       " 'Churn Label',\n",
       " 'Churn Reason']"
      ]
     },
     "execution_count": 31,
     "metadata": {},
     "output_type": "execute_result"
    }
   ],
   "source": [
    "categorical_columns"
   ]
  },
  {
   "cell_type": "code",
   "execution_count": 32,
   "id": "664689a0",
   "metadata": {},
   "outputs": [],
   "source": [
    "df_copy['Paperless Billing'].unique()\n",
    "iso={\"Yes\":1,\"No\":0}\n",
    "df_copy['Paperless Billing']=df_copy['Paperless Billing'].map(iso)"
   ]
  },
  {
   "cell_type": "code",
   "execution_count": 33,
   "id": "1a56fc2c",
   "metadata": {},
   "outputs": [],
   "source": [
    "df_copy['Payment Method'].unique()\n",
    "h={'Mailed check':4,'Electronic check':3,'Bank transfer (automatic)':1,'Credit card (automatic)':2}\n",
    "df_copy['Payment Method']=df_copy['Payment Method'].map(h)"
   ]
  },
  {
   "cell_type": "code",
   "execution_count": 34,
   "id": "75bcac44",
   "metadata": {},
   "outputs": [],
   "source": [
    "df_copy['Churn Label']=df_copy['Churn Label'].map(iso)"
   ]
  },
  {
   "cell_type": "code",
   "execution_count": 35,
   "id": "bb4023aa",
   "metadata": {},
   "outputs": [],
   "source": [
    "d=df_copy['Churn Reason'].unique().tolist()\n",
    "k={}\n",
    "j=1\n",
    "for i in d:\n",
    "    k[i]=j\n",
    "    j+=1\n"
   ]
  },
  {
   "cell_type": "code",
   "execution_count": 36,
   "id": "d847b8a0",
   "metadata": {},
   "outputs": [],
   "source": [
    "df_copy['Churn Reason']=df_copy['Churn Reason'].map(k)"
   ]
  },
  {
   "cell_type": "code",
   "execution_count": 37,
   "id": "1ac9cd02",
   "metadata": {},
   "outputs": [
    {
     "data": {
      "text/plain": [
       "0       0\n",
       "1       0\n",
       "2       0\n",
       "3       0\n",
       "4       0\n",
       "       ..\n",
       "1864    0\n",
       "1865    0\n",
       "1866    1\n",
       "1867    0\n",
       "1868    1\n",
       "Name: Senior Citizen, Length: 1869, dtype: int64"
      ]
     },
     "execution_count": 37,
     "metadata": {},
     "output_type": "execute_result"
    }
   ],
   "source": [
    "df_copy.to_excel(\"df_cleaned.xlsx\")\n",
    "df_copy[\"Senior Citizen\"]"
   ]
  },
  {
   "cell_type": "code",
   "execution_count": 38,
   "id": "8fbd4292",
   "metadata": {},
   "outputs": [
    {
     "name": "stdout",
     "output_type": "stream",
     "text": [
      "<class 'pandas.core.frame.DataFrame'>\n",
      "RangeIndex: 1869 entries, 0 to 1868\n",
      "Data columns (total 31 columns):\n",
      " #   Column             Non-Null Count  Dtype  \n",
      "---  ------             --------------  -----  \n",
      " 0   CustomerID         1869 non-null   object \n",
      " 1   Count              1869 non-null   int64  \n",
      " 2   Zip Code           1869 non-null   int64  \n",
      " 3   Lat Long           1869 non-null   object \n",
      " 4   Latitude           1869 non-null   float64\n",
      " 5   Longitude          1869 non-null   float64\n",
      " 6   Gender             1869 non-null   int64  \n",
      " 7   Senior Citizen     1869 non-null   int64  \n",
      " 8   Partner            1869 non-null   int64  \n",
      " 9   Dependents         1869 non-null   int64  \n",
      " 10  Tenure Months      1869 non-null   float64\n",
      " 11  Phone Service      1869 non-null   int64  \n",
      " 12  Multiple Lines     1869 non-null   int64  \n",
      " 13  Internet Service   1869 non-null   int64  \n",
      " 14  Online Security    1869 non-null   int64  \n",
      " 15  Online Backup      1869 non-null   int64  \n",
      " 16  Device Protection  1869 non-null   int64  \n",
      " 17  Tech Support       1869 non-null   int64  \n",
      " 18  Streaming TV       1869 non-null   int64  \n",
      " 19  Streaming Movies   1869 non-null   int64  \n",
      " 20  Contract           1869 non-null   int64  \n",
      " 21  Paperless Billing  1869 non-null   int64  \n",
      " 22  Payment Method     1869 non-null   int64  \n",
      " 23  Monthly Charges    1869 non-null   float64\n",
      " 24  Total Charges      1869 non-null   float64\n",
      " 25  Churn Label        1869 non-null   int64  \n",
      " 26  Churn Value        1869 non-null   float64\n",
      " 27  Churn Score        1869 non-null   float64\n",
      " 28  CLTV               1869 non-null   float64\n",
      " 29  Churn Reason       1869 non-null   int64  \n",
      " 30  LID                1869 non-null   int64  \n",
      "dtypes: float64(8), int64(21), object(2)\n",
      "memory usage: 452.8+ KB\n"
     ]
    }
   ],
   "source": [
    "df_copy.info()"
   ]
  },
  {
   "cell_type": "code",
   "execution_count": 40,
   "id": "46b65d56",
   "metadata": {},
   "outputs": [
    {
     "name": "stderr",
     "output_type": "stream",
     "text": [
      "c:\\Users\\Shaik Arshad\\anaconda3\\Lib\\site-packages\\seaborn\\_oldcore.py:1119: FutureWarning: use_inf_as_na option is deprecated and will be removed in a future version. Convert inf values to NaN before operating instead.\n",
      "  with pd.option_context('mode.use_inf_as_na', True):\n"
     ]
    },
    {
     "data": {
      "image/png": "[encoded data removed]",
      "text/plain": [
       "<Figure size 600x400 with 1 Axes>"
      ]
     },
     "metadata": {},
     "output_type": "display_data"
    },
    {
     "data": {
      "image/png": "[encoded data removed]",
      "text/plain": [
       "<Figure size 600x400 with 1 Axes>"
      ]
     },
     "metadata": {},
     "output_type": "display_data"
    },
    {
     "name": "stderr",
     "output_type": "stream",
     "text": [
      "c:\\Users\\Shaik Arshad\\anaconda3\\Lib\\site-packages\\seaborn\\_oldcore.py:1119: FutureWarning: use_inf_as_na option is deprecated and will be removed in a future version. Convert inf values to NaN before operating instead.\n",
      "  with pd.option_context('mode.use_inf_as_na', True):\n"
     ]
    },
    {
     "data": {
      "image/png": "[encoded data removed]",
      "text/plain": [
       "<Figure size 600x400 with 1 Axes>"
      ]
     },
     "metadata": {},
     "output_type": "display_data"
    },
    {
     "data": {
      "image/png": "[encoded data removed]",
      "text/plain": [
       "<Figure size 600x400 with 1 Axes>"
      ]
     },
     "metadata": {},
     "output_type": "display_data"
    },
    {
     "name": "stderr",
     "output_type": "stream",
     "text": [
      "c:\\Users\\Shaik Arshad\\anaconda3\\Lib\\site-packages\\seaborn\\_oldcore.py:1119: FutureWarning: use_inf_as_na option is deprecated and will be removed in a future version. Convert inf values to NaN before operating instead.\n",
      "  with pd.option_context('mode.use_inf_as_na', True):\n"
     ]
    },
    {
     "data": {
      "image/png": "[encoded data removed]",
      "text/plain": [
       "<Figure size 600x400 with 1 Axes>"
      ]
     },
     "metadata": {},
     "output_type": "display_data"
    },
    {
     "data": {
      "image/png": "[encoded data removed]",
      "text/plain": [
       "<Figure size 600x400 with 1 Axes>"
      ]
     },
     "metadata": {},
     "output_type": "display_data"
    },
    {
     "name": "stderr",
     "output_type": "stream",
     "text": [
      "c:\\Users\\Shaik Arshad\\anaconda3\\Lib\\site-packages\\seaborn\\_oldcore.py:1119: FutureWarning: use_inf_as_na option is deprecated and will be removed in a future version. Convert inf values to NaN before operating instead.\n",
      "  with pd.option_context('mode.use_inf_as_na', True):\n"
     ]
    },
    {
     "data": {
      "image/png": "[encoded data removed]",
      "text/plain": [
       "<Figure size 600x400 with 1 Axes>"
      ]
     },
     "metadata": {},
     "output_type": "display_data"
    },
    {
     "data": {
      "image/png": "[encoded data removed]",
      "text/plain": [
       "<Figure size 600x400 with 1 Axes>"
      ]
     },
     "metadata": {},
     "output_type": "display_data"
    }
   ],
   "source": [
    "import matplotlib.pyplot as plt\n",
    "import seaborn as sns\n",
    "\n",
    "# List of numeric columns\n",
    "num_cols = ['Tenure Months', 'Monthly Charges', 'Total Charges', 'CLTV']\n",
    "\n",
    "# Plot histograms + KDE (distribution) and Boxplots\n",
    "for col in num_cols:\n",
    "    # Histogram + KDE\n",
    "    plt.figure(figsize=(6,4))\n",
    "    sns.histplot(df_copy[col], kde=True, bins=30)\n",
    "    plt.title(f\"Distribution of {col} (Post-Cleaning)\")\n",
    "    plt.savefig(f\"distribution_{col.replace(' ', '_')}.png\", dpi=300, bbox_inches=\"tight\")\n",
    "    plt.show()\n",
    "    \n",
    "    # Boxplot\n",
    "    plt.figure(figsize=(6,4))\n",
    "    sns.boxplot(x=df_copy[col])\n",
    "    plt.title(f\"Boxplot of {col} (Post-Cleaning)\")\n",
    "    plt.savefig(f\"boxplot_{col.replace(' ', '_')}.png\", dpi=300, bbox_inches=\"tight\")\n",
    "    plt.show()\n",
    "\n"
   ]
  },
  {
   "cell_type": "code",
   "execution_count": 44,
   "id": "3987c495",
   "metadata": {},
   "outputs": [
    {
     "data": {
      "text/plain": [
       "4238.0"
      ]
     },
     "execution_count": 44,
     "metadata": {},
     "output_type": "execute_result"
    }
   ],
   "source": [
    "df_chunked_customers['CLTV'].median()"
   ]
  },
  {
   "cell_type": "code",
   "execution_count": 43,
   "id": "df1cc8e4",
   "metadata": {},
   "outputs": [
    {
     "data": {
      "text/plain": [
       "703.55"
      ]
     },
     "execution_count": 43,
     "metadata": {},
     "output_type": "execute_result"
    }
   ],
   "source": [
    "df_chunked_customers['Total Charges'].median()"
   ]
  }
 ],
 "metadata": {
  "kernelspec": {
   "display_name": "base",
   "language": "python",
   "name": "python3"
  },
  "language_info": {
   "codemirror_mode": {
    "name": "ipython",
    "version": 3
   },
   "file_extension": ".py",
   "mimetype": "text/x-python",
   "name": "python",
   "nbconvert_exporter": "python",
   "pygments_lexer": "ipython3",
   "version": "3.11.7"
  }
 },
 "nbformat": 4,
 "nbformat_minor": 5
}
